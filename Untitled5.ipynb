{
  "nbformat": 4,
  "nbformat_minor": 0,
  "metadata": {
    "colab": {
      "name": "Untitled5.ipynb",
      "provenance": [],
      "authorship_tag": "ABX9TyPLK9TOZmJ2nbttYlHQbd/h",
      "include_colab_link": true
    },
    "kernelspec": {
      "name": "python3",
      "display_name": "Python 3"
    }
  },
  "cells": [
    {
      "cell_type": "markdown",
      "metadata": {
        "id": "view-in-github",
        "colab_type": "text"
      },
      "source": [
        "<a href=\"https://colab.research.google.com/github/19PA1A0534/python-basics/blob/master/Untitled5.ipynb\" target=\"_parent\"><img src=\"https://colab.research.google.com/assets/colab-badge.svg\" alt=\"Open In Colab\"/></a>"
      ]
    },
    {
      "cell_type": "markdown",
      "metadata": {
        "id": "SWdocM2JUu2Y",
        "colab_type": "text"
      },
      "source": [
        "Exploring Data:We took data from online sourcehttps://www.kaggle.com/PromptCloudHQ/flipkart-products This Dataset contains:20000 rows and 15 columns."
      ]
    },
    {
      "cell_type": "markdown",
      "metadata": {
        "id": "aj5g9Dx-aWj-",
        "colab_type": "text"
      },
      "source": [
        "The variables in Dataset are:\n",
        "\n",
        "\n",
        "\n",
        "* uniq_id\n",
        "*   crawl_timestamp\n",
        "*   product_url\n",
        "*  product_name\n",
        "*   product_category_tree\n",
        "*   pid\n",
        "*   retail_price\n",
        "*   discounted_price\n",
        "\n",
        "*  image\n",
        "\n",
        "*  is_FK_Advantage_product\n",
        "\n",
        "\n",
        "*   description\n",
        "*   product_rating\n",
        "\n",
        "\n",
        "*   overall_rating\n",
        "*   brand\n",
        "\n",
        "*   product_specifications\n",
        "\n",
        "\n",
        "\n",
        "\n",
        "\n",
        "\n",
        "\n",
        "\n",
        "\n",
        "\n",
        "\n",
        "\n",
        "\n",
        "\n",
        "\n",
        "\n",
        "\n",
        "\n",
        "\n",
        "\n"
      ]
    },
    {
      "cell_type": "markdown",
      "metadata": {
        "id": "HKB4wYkaeUiA",
        "colab_type": "text"
      },
      "source": [
        "Questions on dataset:\n",
        "\n",
        "\n",
        "1. on which flipkart product retail price is more?\n",
        "2. what is the maximum discounted price?\n",
        "3. which product has more rating?\n",
        "2. how many products are advantage?\n",
        "1. which product is more saled?\n",
        "2. which brand is mostly used?\n",
        "\n",
        "\n",
        "\n",
        "\n",
        "\n",
        "\n",
        "\n",
        "\n"
      ]
    },
    {
      "cell_type": "code",
      "metadata": {
        "id": "OKFuUYQgiWPO",
        "colab_type": "code",
        "outputId": "735406ce-145f-460e-89a2-0d272fc050fe",
        "colab": {
          "base_uri": "https://localhost:8080/",
          "height": 255
        }
      },
      "source": [
        "import numpy as np\n",
        "import pandas as pd\n",
        "import matplotlib.pyplot as plt\n",
        "a=pd.read_csv('flipkart-products.zip')\n",
        "print(a)"
      ],
      "execution_count": 0,
      "outputs": [
        {
          "output_type": "stream",
          "text": [
            "                                uniq_id  ...                             product_specifications\n",
            "0      c2d766ca982eca8304150849735ffef9  ...  {\"product_specification\"=>[{\"key\"=>\"Number of ...\n",
            "1      7f7036a6d550aaa89d34c77bd39a5e48  ...  {\"product_specification\"=>[{\"key\"=>\"Installati...\n",
            "2      f449ec65dcbc041b6ae5e6a32717d01b  ...  {\"product_specification\"=>[{\"key\"=>\"Ideal For\"...\n",
            "3      0973b37acd0c664e3de26e97e5571454  ...  {\"product_specification\"=>[{\"key\"=>\"Number of ...\n",
            "4      bc940ea42ee6bef5ac7cea3fb5cfbee7  ...  {\"product_specification\"=>[{\"key\"=>\"Pet Type\",...\n",
            "...                                 ...  ...                                                ...\n",
            "19995  7179d2f6c4ad50a17d014ca1d2815156  ...  {\"product_specification\"=>[{\"key\"=>\"Number of ...\n",
            "19996  71ac419198359d37b8fe5e3fffdfee09  ...  {\"product_specification\"=>[{\"key\"=>\"Number of ...\n",
            "19997  93e9d343837400ce0d7980874ece471c  ...  {\"product_specification\"=>[{\"key\"=>\"Number of ...\n",
            "19998  669e79b8fa5d9ae020841c0c97d5e935  ...  {\"product_specification\"=>[{\"key\"=>\"Number of ...\n",
            "19999  cb4fa87a874f715fff567f7b7b3be79c  ...  {\"product_specification\"=>[{\"key\"=>\"Number of ...\n",
            "\n",
            "[20000 rows x 15 columns]\n"
          ],
          "name": "stdout"
        }
      ]
    },
    {
      "cell_type": "code",
      "metadata": {
        "id": "zHwnPGEbisEC",
        "colab_type": "code",
        "outputId": "ba4f75bb-3322-4af4-ab80-5fdaf5aa2105",
        "colab": {
          "base_uri": "https://localhost:8080/",
          "height": 34
        }
      },
      "source": [
        "a.shape#prints no.of rows and columns"
      ],
      "execution_count": 0,
      "outputs": [
        {
          "output_type": "execute_result",
          "data": {
            "text/plain": [
              "(20000, 15)"
            ]
          },
          "metadata": {
            "tags": []
          },
          "execution_count": 14
        }
      ]
    },
    {
      "cell_type": "code",
      "metadata": {
        "id": "0xA8aZRfi2kT",
        "colab_type": "code",
        "outputId": "555bfed8-fd56-400d-dac2-7bb566bd74c8",
        "colab": {
          "base_uri": "https://localhost:8080/",
          "height": 34
        }
      },
      "source": [
        "a.ndim#prints no.of dimensions"
      ],
      "execution_count": 0,
      "outputs": [
        {
          "output_type": "execute_result",
          "data": {
            "text/plain": [
              "2"
            ]
          },
          "metadata": {
            "tags": []
          },
          "execution_count": 15
        }
      ]
    },
    {
      "cell_type": "code",
      "metadata": {
        "id": "ACO3cio6i830",
        "colab_type": "code",
        "outputId": "ab2a701c-b529-4186-d003-3d123dab84a2",
        "colab": {
          "base_uri": "https://localhost:8080/",
          "height": 102
        }
      },
      "source": [
        "a.columns#prints columns in dataset"
      ],
      "execution_count": 0,
      "outputs": [
        {
          "output_type": "execute_result",
          "data": {
            "text/plain": [
              "Index(['uniq_id', 'crawl_timestamp', 'product_url', 'product_name',\n",
              "       'product_category_tree', 'pid', 'retail_price', 'discounted_price',\n",
              "       'image', 'is_FK_Advantage_product', 'description', 'product_rating',\n",
              "       'overall_rating', 'brand', 'product_specifications'],\n",
              "      dtype='object')"
            ]
          },
          "metadata": {
            "tags": []
          },
          "execution_count": 16
        }
      ]
    },
    {
      "cell_type": "code",
      "metadata": {
        "id": "e-E3o1l6jDfi",
        "colab_type": "code",
        "outputId": "7beb533b-1361-4cc2-be95-d7f7d6ca2dfa",
        "colab": {
          "base_uri": "https://localhost:8080/",
          "height": 34
        }
      },
      "source": [
        "type(a)#prints dataset is series or dataframe"
      ],
      "execution_count": 0,
      "outputs": [
        {
          "output_type": "execute_result",
          "data": {
            "text/plain": [
              "pandas.core.frame.DataFrame"
            ]
          },
          "metadata": {
            "tags": []
          },
          "execution_count": 17
        }
      ]
    },
    {
      "cell_type": "code",
      "metadata": {
        "id": "rmJtia9f9edn",
        "colab_type": "code",
        "colab": {}
      },
      "source": [
        ""
      ],
      "execution_count": 0,
      "outputs": []
    },
    {
      "cell_type": "code",
      "metadata": {
        "id": "QQeYGwINjXMx",
        "colab_type": "code",
        "outputId": "c7b697dd-01b2-41fc-d04f-eea962e6eb25",
        "colab": {
          "base_uri": "https://localhost:8080/",
          "height": 289
        }
      },
      "source": [
        "a.dtypes#prints data types"
      ],
      "execution_count": 0,
      "outputs": [
        {
          "output_type": "execute_result",
          "data": {
            "text/plain": [
              "uniq_id                     object\n",
              "crawl_timestamp             object\n",
              "product_url                 object\n",
              "product_name                object\n",
              "product_category_tree       object\n",
              "pid                         object\n",
              "retail_price               float64\n",
              "discounted_price           float64\n",
              "image                       object\n",
              "is_FK_Advantage_product       bool\n",
              "description                 object\n",
              "product_rating              object\n",
              "overall_rating              object\n",
              "brand                       object\n",
              "product_specifications      object\n",
              "dtype: object"
            ]
          },
          "metadata": {
            "tags": []
          },
          "execution_count": 18
        }
      ]
    },
    {
      "cell_type": "code",
      "metadata": {
        "id": "_ZR7WAtjjjRz",
        "colab_type": "code",
        "outputId": "62247652-9761-466f-b297-a09d9595a14f",
        "colab": {
          "base_uri": "https://localhost:8080/",
          "height": 153
        }
      },
      "source": [
        "print(a.head())"
      ],
      "execution_count": 0,
      "outputs": [
        {
          "output_type": "stream",
          "text": [
            "                            uniq_id  ...                             product_specifications\n",
            "0  c2d766ca982eca8304150849735ffef9  ...  {\"product_specification\"=>[{\"key\"=>\"Number of ...\n",
            "1  7f7036a6d550aaa89d34c77bd39a5e48  ...  {\"product_specification\"=>[{\"key\"=>\"Installati...\n",
            "2  f449ec65dcbc041b6ae5e6a32717d01b  ...  {\"product_specification\"=>[{\"key\"=>\"Ideal For\"...\n",
            "3  0973b37acd0c664e3de26e97e5571454  ...  {\"product_specification\"=>[{\"key\"=>\"Number of ...\n",
            "4  bc940ea42ee6bef5ac7cea3fb5cfbee7  ...  {\"product_specification\"=>[{\"key\"=>\"Pet Type\",...\n",
            "\n",
            "[5 rows x 15 columns]\n"
          ],
          "name": "stdout"
        }
      ]
    },
    {
      "cell_type": "code",
      "metadata": {
        "id": "mgsDvmFoivPJ",
        "colab_type": "code",
        "outputId": "b066c475-a5be-47f3-ead2-21fb3ec6a699",
        "colab": {
          "base_uri": "https://localhost:8080/",
          "height": 153
        }
      },
      "source": [
        "print(a.tail())"
      ],
      "execution_count": 0,
      "outputs": [
        {
          "output_type": "stream",
          "text": [
            "                                uniq_id  ...                             product_specifications\n",
            "19995  7179d2f6c4ad50a17d014ca1d2815156  ...  {\"product_specification\"=>[{\"key\"=>\"Number of ...\n",
            "19996  71ac419198359d37b8fe5e3fffdfee09  ...  {\"product_specification\"=>[{\"key\"=>\"Number of ...\n",
            "19997  93e9d343837400ce0d7980874ece471c  ...  {\"product_specification\"=>[{\"key\"=>\"Number of ...\n",
            "19998  669e79b8fa5d9ae020841c0c97d5e935  ...  {\"product_specification\"=>[{\"key\"=>\"Number of ...\n",
            "19999  cb4fa87a874f715fff567f7b7b3be79c  ...  {\"product_specification\"=>[{\"key\"=>\"Number of ...\n",
            "\n",
            "[5 rows x 15 columns]\n"
          ],
          "name": "stdout"
        }
      ]
    },
    {
      "cell_type": "code",
      "metadata": {
        "id": "jjAMTBp4kPAC",
        "colab_type": "code",
        "outputId": "463fd797-f900-46a9-8482-35de7db6be68",
        "colab": {
          "base_uri": "https://localhost:8080/",
          "height": 238
        }
      },
      "source": [
        "print(a.head(10))"
      ],
      "execution_count": 0,
      "outputs": [
        {
          "output_type": "stream",
          "text": [
            "                            uniq_id  ...                             product_specifications\n",
            "0  c2d766ca982eca8304150849735ffef9  ...  {\"product_specification\"=>[{\"key\"=>\"Number of ...\n",
            "1  7f7036a6d550aaa89d34c77bd39a5e48  ...  {\"product_specification\"=>[{\"key\"=>\"Installati...\n",
            "2  f449ec65dcbc041b6ae5e6a32717d01b  ...  {\"product_specification\"=>[{\"key\"=>\"Ideal For\"...\n",
            "3  0973b37acd0c664e3de26e97e5571454  ...  {\"product_specification\"=>[{\"key\"=>\"Number of ...\n",
            "4  bc940ea42ee6bef5ac7cea3fb5cfbee7  ...  {\"product_specification\"=>[{\"key\"=>\"Pet Type\",...\n",
            "5  c2a17313954882c1dba461863e98adf2  ...  {\"product_specification\"=>[{\"key\"=>\"Model Name...\n",
            "6  ce5a6818f7707e2cb61fdcdbba61f5ad  ...  {\"product_specification\"=>[{\"key\"=>\"Number of ...\n",
            "7  8542703ca9e6ebdf6d742638dfb1f2ca  ...  {\"product_specification\"=>[{\"key\"=>\"Installati...\n",
            "8  29c8d290caa451f97b1c32df64477a2c  ...  {\"product_specification\"=>[{\"key\"=>\"Occasion\",...\n",
            "9  4044c0ac52c1ee4b28777417651faf42  ...  {\"product_specification\"=>[{\"key\"=>\"Number of ...\n",
            "\n",
            "[10 rows x 15 columns]\n"
          ],
          "name": "stdout"
        }
      ]
    },
    {
      "cell_type": "code",
      "metadata": {
        "id": "gf7wpoK0kTJu",
        "colab_type": "code",
        "outputId": "1fa40384-63f2-4dca-b0da-780f7fdc155a",
        "colab": {
          "base_uri": "https://localhost:8080/",
          "height": 238
        }
      },
      "source": [
        "print(a.tail(10))"
      ],
      "execution_count": 0,
      "outputs": [
        {
          "output_type": "stream",
          "text": [
            "                                uniq_id  ...                             product_specifications\n",
            "19990  5847c8e9547dd50843f9d89886848ab9  ...  {\"product_specification\"=>[{\"key\"=>\"Number of ...\n",
            "19991  4b4714b5f0c9971d1145efe8d16c458b  ...  {\"product_specification\"=>[{\"key\"=>\"Number of ...\n",
            "19992  a68293dfd7b022e03cbf57e9bb002496  ...  {\"product_specification\"=>[{\"key\"=>\"Sales Pack...\n",
            "19993  a38fc11b1f6dc2d38bf38fae03ab6743  ...  {\"product_specification\"=>[{\"key\"=>\"Number of ...\n",
            "19994  7415e1a421fb468d25a5ea56350f44be  ...  {\"product_specification\"=>[{\"key\"=>\"Number of ...\n",
            "19995  7179d2f6c4ad50a17d014ca1d2815156  ...  {\"product_specification\"=>[{\"key\"=>\"Number of ...\n",
            "19996  71ac419198359d37b8fe5e3fffdfee09  ...  {\"product_specification\"=>[{\"key\"=>\"Number of ...\n",
            "19997  93e9d343837400ce0d7980874ece471c  ...  {\"product_specification\"=>[{\"key\"=>\"Number of ...\n",
            "19998  669e79b8fa5d9ae020841c0c97d5e935  ...  {\"product_specification\"=>[{\"key\"=>\"Number of ...\n",
            "19999  cb4fa87a874f715fff567f7b7b3be79c  ...  {\"product_specification\"=>[{\"key\"=>\"Number of ...\n",
            "\n",
            "[10 rows x 15 columns]\n"
          ],
          "name": "stdout"
        }
      ]
    },
    {
      "cell_type": "code",
      "metadata": {
        "id": "lQT-i61FrbMS",
        "colab_type": "code",
        "outputId": "8bb72c39-ab81-4bcd-b3c2-e0db8dc34325",
        "colab": {
          "base_uri": "https://localhost:8080/",
          "height": 170
        }
      },
      "source": [
        "print(a.describe())"
      ],
      "execution_count": 0,
      "outputs": [
        {
          "output_type": "stream",
          "text": [
            "        retail_price  discounted_price\n",
            "count   19922.000000      19922.000000\n",
            "mean     2979.206104       1973.401767\n",
            "std      9009.639341       7333.586040\n",
            "min        35.000000         35.000000\n",
            "25%       666.000000        350.000000\n",
            "50%      1040.000000        550.000000\n",
            "75%      1999.000000        999.000000\n",
            "max    571230.000000     571230.000000\n"
          ],
          "name": "stdout"
        }
      ]
    },
    {
      "cell_type": "code",
      "metadata": {
        "id": "ti19T5lArmER",
        "colab_type": "code",
        "outputId": "5f69cb9e-6cbd-4303-9b5c-ca3cdaaacbcc",
        "colab": {
          "base_uri": "https://localhost:8080/",
          "height": 255
        }
      },
      "source": [
        "print(a.describe(include='all'))"
      ],
      "execution_count": 0,
      "outputs": [
        {
          "output_type": "stream",
          "text": [
            "                                 uniq_id  ...                             product_specifications\n",
            "count                              20000  ...                                              19986\n",
            "unique                             20000  ...                                              18825\n",
            "top     2e53759dd447b93fffef97d30ad2d65d  ...  {\"product_specification\"=>[{\"key\"=>\"Type\", \"va...\n",
            "freq                                   1  ...                                                 71\n",
            "mean                                 NaN  ...                                                NaN\n",
            "std                                  NaN  ...                                                NaN\n",
            "min                                  NaN  ...                                                NaN\n",
            "25%                                  NaN  ...                                                NaN\n",
            "50%                                  NaN  ...                                                NaN\n",
            "75%                                  NaN  ...                                                NaN\n",
            "max                                  NaN  ...                                                NaN\n",
            "\n",
            "[11 rows x 15 columns]\n"
          ],
          "name": "stdout"
        }
      ]
    },
    {
      "cell_type": "code",
      "metadata": {
        "id": "Us0ACo18re7H",
        "colab_type": "code",
        "outputId": "663d2a19-8b9e-4798-9f5a-47b011b87ca0",
        "colab": {
          "base_uri": "https://localhost:8080/",
          "height": 357
        }
      },
      "source": [
        "a.info()"
      ],
      "execution_count": 0,
      "outputs": [
        {
          "output_type": "stream",
          "text": [
            "<class 'pandas.core.frame.DataFrame'>\n",
            "RangeIndex: 20000 entries, 0 to 19999\n",
            "Data columns (total 15 columns):\n",
            "uniq_id                    20000 non-null object\n",
            "crawl_timestamp            20000 non-null object\n",
            "product_url                20000 non-null object\n",
            "product_name               20000 non-null object\n",
            "product_category_tree      20000 non-null object\n",
            "pid                        20000 non-null object\n",
            "retail_price               19922 non-null float64\n",
            "discounted_price           19922 non-null float64\n",
            "image                      19997 non-null object\n",
            "is_FK_Advantage_product    20000 non-null bool\n",
            "description                19998 non-null object\n",
            "product_rating             20000 non-null object\n",
            "overall_rating             20000 non-null object\n",
            "brand                      14136 non-null object\n",
            "product_specifications     19986 non-null object\n",
            "dtypes: bool(1), float64(2), object(12)\n",
            "memory usage: 2.2+ MB\n"
          ],
          "name": "stdout"
        }
      ]
    },
    {
      "cell_type": "code",
      "metadata": {
        "id": "FVxilJnL08Le",
        "colab_type": "code",
        "outputId": "80b62bb4-af60-400c-e3f6-5f6d759f08a6",
        "colab": {
          "base_uri": "https://localhost:8080/",
          "height": 289
        }
      },
      "source": [
        "a.count()"
      ],
      "execution_count": 0,
      "outputs": [
        {
          "output_type": "execute_result",
          "data": {
            "text/plain": [
              "uniq_id                    20000\n",
              "crawl_timestamp            20000\n",
              "product_url                20000\n",
              "product_name               20000\n",
              "product_category_tree      20000\n",
              "pid                        20000\n",
              "retail_price               19922\n",
              "discounted_price           19922\n",
              "image                      19997\n",
              "is_FK_Advantage_product    20000\n",
              "description                19998\n",
              "product_rating             20000\n",
              "overall_rating             20000\n",
              "brand                      14136\n",
              "product_specifications     19986\n",
              "dtype: int64"
            ]
          },
          "metadata": {
            "tags": []
          },
          "execution_count": 55
        }
      ]
    },
    {
      "cell_type": "code",
      "metadata": {
        "id": "L5eiFP_v0_jo",
        "colab_type": "code",
        "outputId": "5f7e7d05-c0ba-40d4-b2ed-b44ec24d1286",
        "colab": {
          "base_uri": "https://localhost:8080/",
          "height": 85
        }
      },
      "source": [
        "a.std()"
      ],
      "execution_count": 0,
      "outputs": [
        {
          "output_type": "execute_result",
          "data": {
            "text/plain": [
              "retail_price               9009.639341\n",
              "discounted_price           7333.586040\n",
              "is_FK_Advantage_product       0.194194\n",
              "dtype: float64"
            ]
          },
          "metadata": {
            "tags": []
          },
          "execution_count": 56
        }
      ]
    },
    {
      "cell_type": "code",
      "metadata": {
        "id": "LL4b1k6b-XOO",
        "colab_type": "code",
        "outputId": "a11fe16f-2ce8-4506-a584-25b7333e275e",
        "colab": {
          "base_uri": "https://localhost:8080/",
          "height": 255
        }
      },
      "source": [
        "print(a.dropna())"
      ],
      "execution_count": 0,
      "outputs": [
        {
          "output_type": "stream",
          "text": [
            "                                uniq_id  ...                             product_specifications\n",
            "0      c2d766ca982eca8304150849735ffef9  ...  {\"product_specification\"=>[{\"key\"=>\"Number of ...\n",
            "1      7f7036a6d550aaa89d34c77bd39a5e48  ...  {\"product_specification\"=>[{\"key\"=>\"Installati...\n",
            "2      f449ec65dcbc041b6ae5e6a32717d01b  ...  {\"product_specification\"=>[{\"key\"=>\"Ideal For\"...\n",
            "3      0973b37acd0c664e3de26e97e5571454  ...  {\"product_specification\"=>[{\"key\"=>\"Number of ...\n",
            "4      bc940ea42ee6bef5ac7cea3fb5cfbee7  ...  {\"product_specification\"=>[{\"key\"=>\"Pet Type\",...\n",
            "...                                 ...  ...                                                ...\n",
            "19995  7179d2f6c4ad50a17d014ca1d2815156  ...  {\"product_specification\"=>[{\"key\"=>\"Number of ...\n",
            "19996  71ac419198359d37b8fe5e3fffdfee09  ...  {\"product_specification\"=>[{\"key\"=>\"Number of ...\n",
            "19997  93e9d343837400ce0d7980874ece471c  ...  {\"product_specification\"=>[{\"key\"=>\"Number of ...\n",
            "19998  669e79b8fa5d9ae020841c0c97d5e935  ...  {\"product_specification\"=>[{\"key\"=>\"Number of ...\n",
            "19999  cb4fa87a874f715fff567f7b7b3be79c  ...  {\"product_specification\"=>[{\"key\"=>\"Number of ...\n",
            "\n",
            "[14058 rows x 15 columns]\n"
          ],
          "name": "stdout"
        }
      ]
    },
    {
      "cell_type": "code",
      "metadata": {
        "id": "Z_DoLI1N-jw9",
        "colab_type": "code",
        "outputId": "46df76a6-b279-4514-88b8-02a31e879021",
        "colab": {
          "base_uri": "https://localhost:8080/",
          "height": 255
        }
      },
      "source": [
        "print(a.fillna('method=pad'))"
      ],
      "execution_count": 0,
      "outputs": [
        {
          "output_type": "stream",
          "text": [
            "                                uniq_id  ...                             product_specifications\n",
            "0      c2d766ca982eca8304150849735ffef9  ...  {\"product_specification\"=>[{\"key\"=>\"Number of ...\n",
            "1      7f7036a6d550aaa89d34c77bd39a5e48  ...  {\"product_specification\"=>[{\"key\"=>\"Installati...\n",
            "2      f449ec65dcbc041b6ae5e6a32717d01b  ...  {\"product_specification\"=>[{\"key\"=>\"Ideal For\"...\n",
            "3      0973b37acd0c664e3de26e97e5571454  ...  {\"product_specification\"=>[{\"key\"=>\"Number of ...\n",
            "4      bc940ea42ee6bef5ac7cea3fb5cfbee7  ...  {\"product_specification\"=>[{\"key\"=>\"Pet Type\",...\n",
            "...                                 ...  ...                                                ...\n",
            "19995  7179d2f6c4ad50a17d014ca1d2815156  ...  {\"product_specification\"=>[{\"key\"=>\"Number of ...\n",
            "19996  71ac419198359d37b8fe5e3fffdfee09  ...  {\"product_specification\"=>[{\"key\"=>\"Number of ...\n",
            "19997  93e9d343837400ce0d7980874ece471c  ...  {\"product_specification\"=>[{\"key\"=>\"Number of ...\n",
            "19998  669e79b8fa5d9ae020841c0c97d5e935  ...  {\"product_specification\"=>[{\"key\"=>\"Number of ...\n",
            "19999  cb4fa87a874f715fff567f7b7b3be79c  ...  {\"product_specification\"=>[{\"key\"=>\"Number of ...\n",
            "\n",
            "[20000 rows x 15 columns]\n"
          ],
          "name": "stdout"
        }
      ]
    },
    {
      "cell_type": "code",
      "metadata": {
        "id": "CbfpFOh03-VS",
        "colab_type": "code",
        "outputId": "fc3ae2ea-c783-4c9b-f2ae-f62653016038",
        "colab": {
          "base_uri": "https://localhost:8080/",
          "height": 34
        }
      },
      "source": [
        "a['discounted_price'].sum()"
      ],
      "execution_count": 0,
      "outputs": [
        {
          "output_type": "execute_result",
          "data": {
            "text/plain": [
              "39314110.0"
            ]
          },
          "metadata": {
            "tags": []
          },
          "execution_count": 71
        }
      ]
    },
    {
      "cell_type": "code",
      "metadata": {
        "id": "eGTTC9ru4DVR",
        "colab_type": "code",
        "outputId": "fccf1df8-4b54-4cb0-f4b0-0fedc7f21362",
        "colab": {
          "base_uri": "https://localhost:8080/",
          "height": 34
        }
      },
      "source": [
        "a['is_FK_Advantage_product'].sum()"
      ],
      "execution_count": 0,
      "outputs": [
        {
          "output_type": "execute_result",
          "data": {
            "text/plain": [
              "785"
            ]
          },
          "metadata": {
            "tags": []
          },
          "execution_count": 72
        }
      ]
    },
    {
      "cell_type": "code",
      "metadata": {
        "id": "4LZHkP8H4fSC",
        "colab_type": "code",
        "outputId": "58672790-ab95-4fb2-9965-391efb20050f",
        "colab": {
          "base_uri": "https://localhost:8080/",
          "height": 34
        }
      },
      "source": [
        "a['retail_price'].sum()"
      ],
      "execution_count": 0,
      "outputs": [
        {
          "output_type": "execute_result",
          "data": {
            "text/plain": [
              "59351744.0"
            ]
          },
          "metadata": {
            "tags": []
          },
          "execution_count": 74
        }
      ]
    },
    {
      "cell_type": "code",
      "metadata": {
        "id": "B1DzP2-O4H1P",
        "colab_type": "code",
        "outputId": "ab7ec285-b920-4c0e-8531-ee1bb8c93d44",
        "colab": {
          "base_uri": "https://localhost:8080/",
          "height": 221
        }
      },
      "source": [
        "a['retail_price']"
      ],
      "execution_count": 0,
      "outputs": [
        {
          "output_type": "execute_result",
          "data": {
            "text/plain": [
              "0          999.0\n",
              "1        32157.0\n",
              "2          999.0\n",
              "3          699.0\n",
              "4          220.0\n",
              "          ...   \n",
              "19995     1500.0\n",
              "19996     1429.0\n",
              "19997     1299.0\n",
              "19998     1499.0\n",
              "19999     1499.0\n",
              "Name: retail_price, Length: 20000, dtype: float64"
            ]
          },
          "metadata": {
            "tags": []
          },
          "execution_count": 73
        }
      ]
    },
    {
      "cell_type": "code",
      "metadata": {
        "id": "a2AXHJd2kV8T",
        "colab_type": "code",
        "outputId": "362b3442-24a7-485a-f4d0-c0bfd7c2294d",
        "colab": {
          "base_uri": "https://localhost:8080/",
          "height": 34
        }
      },
      "source": [
        "a['retail_price'].max()"
      ],
      "execution_count": 0,
      "outputs": [
        {
          "output_type": "execute_result",
          "data": {
            "text/plain": [
              "571230.0"
            ]
          },
          "metadata": {
            "tags": []
          },
          "execution_count": 24
        }
      ]
    },
    {
      "cell_type": "code",
      "metadata": {
        "id": "ZVDF8ncqkoh0",
        "colab_type": "code",
        "outputId": "d600a1f2-e5be-4eb7-d609-3c304f02a2ab",
        "colab": {
          "base_uri": "https://localhost:8080/",
          "height": 34
        }
      },
      "source": [
        "a['discounted_price'].max()"
      ],
      "execution_count": 0,
      "outputs": [
        {
          "output_type": "execute_result",
          "data": {
            "text/plain": [
              "571230.0"
            ]
          },
          "metadata": {
            "tags": []
          },
          "execution_count": 25
        }
      ]
    },
    {
      "cell_type": "code",
      "metadata": {
        "id": "HAQIJG1dk4WA",
        "colab_type": "code",
        "outputId": "d0bd6fad-c1b3-45db-fc53-ce2b6644e878",
        "colab": {
          "base_uri": "https://localhost:8080/",
          "height": 34
        }
      },
      "source": [
        "a['product_rating'].max()"
      ],
      "execution_count": 0,
      "outputs": [
        {
          "output_type": "execute_result",
          "data": {
            "text/plain": [
              "'No rating available'"
            ]
          },
          "metadata": {
            "tags": []
          },
          "execution_count": 27
        }
      ]
    },
    {
      "cell_type": "code",
      "metadata": {
        "id": "CRFUueATlG3U",
        "colab_type": "code",
        "outputId": "e0d1b0ce-4976-44ba-afba-3973fbb29c05",
        "colab": {
          "base_uri": "https://localhost:8080/",
          "height": 34
        }
      },
      "source": [
        "a['is_FK_Advantage_product'].max()"
      ],
      "execution_count": 0,
      "outputs": [
        {
          "output_type": "execute_result",
          "data": {
            "text/plain": [
              "True"
            ]
          },
          "metadata": {
            "tags": []
          },
          "execution_count": 78
        }
      ]
    },
    {
      "cell_type": "code",
      "metadata": {
        "id": "0eLpxoKj4wjX",
        "colab_type": "code",
        "outputId": "83d6490e-37ed-4954-8ff3-4d10ea7a0e2f",
        "colab": {
          "base_uri": "https://localhost:8080/",
          "height": 221
        }
      },
      "source": [
        "a['retail_price']"
      ],
      "execution_count": 0,
      "outputs": [
        {
          "output_type": "execute_result",
          "data": {
            "text/plain": [
              "0          999.0\n",
              "1        32157.0\n",
              "2          999.0\n",
              "3          699.0\n",
              "4          220.0\n",
              "          ...   \n",
              "19995     1500.0\n",
              "19996     1429.0\n",
              "19997     1299.0\n",
              "19998     1499.0\n",
              "19999     1499.0\n",
              "Name: retail_price, Length: 20000, dtype: float64"
            ]
          },
          "metadata": {
            "tags": []
          },
          "execution_count": 75
        }
      ]
    },
    {
      "cell_type": "code",
      "metadata": {
        "id": "5Qdg8FKl422f",
        "colab_type": "code",
        "outputId": "7db3518e-2db0-43be-b233-eab3dc835d0f",
        "colab": {
          "base_uri": "https://localhost:8080/",
          "height": 221
        }
      },
      "source": [
        "a['discounted_price']"
      ],
      "execution_count": 0,
      "outputs": [
        {
          "output_type": "execute_result",
          "data": {
            "text/plain": [
              "0          379.0\n",
              "1        22646.0\n",
              "2          499.0\n",
              "3          267.0\n",
              "4          210.0\n",
              "          ...   \n",
              "19995      730.0\n",
              "19996     1143.0\n",
              "19997      999.0\n",
              "19998     1199.0\n",
              "19999      999.0\n",
              "Name: discounted_price, Length: 20000, dtype: float64"
            ]
          },
          "metadata": {
            "tags": []
          },
          "execution_count": 76
        }
      ]
    },
    {
      "cell_type": "code",
      "metadata": {
        "id": "QNs6Ezi_5AKw",
        "colab_type": "code",
        "outputId": "8da3c6f3-0d8f-4a82-f25e-ec6203750b03",
        "colab": {
          "base_uri": "https://localhost:8080/",
          "height": 221
        }
      },
      "source": [
        "a['is_FK_Advantage_product']"
      ],
      "execution_count": 0,
      "outputs": [
        {
          "output_type": "execute_result",
          "data": {
            "text/plain": [
              "0        False\n",
              "1        False\n",
              "2        False\n",
              "3        False\n",
              "4        False\n",
              "         ...  \n",
              "19995    False\n",
              "19996    False\n",
              "19997    False\n",
              "19998    False\n",
              "19999    False\n",
              "Name: is_FK_Advantage_product, Length: 20000, dtype: bool"
            ]
          },
          "metadata": {
            "tags": []
          },
          "execution_count": 77
        }
      ]
    },
    {
      "cell_type": "code",
      "metadata": {
        "id": "KtI_6sBtleHM",
        "colab_type": "code",
        "outputId": "d9344020-af65-407d-afe3-d8f64569d10a",
        "colab": {
          "base_uri": "https://localhost:8080/",
          "height": 51
        }
      },
      "source": [
        "a['product_name'].mode()"
      ],
      "execution_count": 0,
      "outputs": [
        {
          "output_type": "execute_result",
          "data": {
            "text/plain": [
              "0    TheLostPuppy Back Cover for Apple iPad Air\n",
              "dtype: object"
            ]
          },
          "metadata": {
            "tags": []
          },
          "execution_count": 31
        }
      ]
    },
    {
      "cell_type": "code",
      "metadata": {
        "id": "U40sVco9lt_y",
        "colab_type": "code",
        "outputId": "e251c866-abb2-4c73-8977-1ec46103f839",
        "colab": {
          "base_uri": "https://localhost:8080/",
          "height": 51
        }
      },
      "source": [
        "a['brand'].mode()"
      ],
      "execution_count": 0,
      "outputs": [
        {
          "output_type": "execute_result",
          "data": {
            "text/plain": [
              "0    Allure Auto\n",
              "dtype: object"
            ]
          },
          "metadata": {
            "tags": []
          },
          "execution_count": 34
        }
      ]
    },
    {
      "cell_type": "code",
      "metadata": {
        "id": "xwnHrpJP5kup",
        "colab_type": "code",
        "outputId": "6e7f5d47-f6f9-4322-a71f-a6a247af9ec7",
        "colab": {
          "base_uri": "https://localhost:8080/",
          "height": 34
        }
      },
      "source": [
        "a['is_FK_Advantage_product'].median()"
      ],
      "execution_count": 0,
      "outputs": [
        {
          "output_type": "execute_result",
          "data": {
            "text/plain": [
              "0.0"
            ]
          },
          "metadata": {
            "tags": []
          },
          "execution_count": 79
        }
      ]
    },
    {
      "cell_type": "code",
      "metadata": {
        "id": "b2VXDebN5qZ6",
        "colab_type": "code",
        "outputId": "ec8aa816-b753-4ea5-aa0c-1208a71236e9",
        "colab": {
          "base_uri": "https://localhost:8080/",
          "height": 34
        }
      },
      "source": [
        "a['discounted_price'].median()"
      ],
      "execution_count": 0,
      "outputs": [
        {
          "output_type": "execute_result",
          "data": {
            "text/plain": [
              "550.0"
            ]
          },
          "metadata": {
            "tags": []
          },
          "execution_count": 80
        }
      ]
    },
    {
      "cell_type": "code",
      "metadata": {
        "id": "Wex4u46T51BY",
        "colab_type": "code",
        "outputId": "60918e5b-acfd-4c02-dada-c3222e420b8f",
        "colab": {
          "base_uri": "https://localhost:8080/",
          "height": 34
        }
      },
      "source": [
        "a['retail_price'].median()"
      ],
      "execution_count": 0,
      "outputs": [
        {
          "output_type": "execute_result",
          "data": {
            "text/plain": [
              "1040.0"
            ]
          },
          "metadata": {
            "tags": []
          },
          "execution_count": 81
        }
      ]
    },
    {
      "cell_type": "code",
      "metadata": {
        "id": "a4bVhYUHq4j3",
        "colab_type": "code",
        "outputId": "abca5777-9b33-474d-d8eb-6ff0bcca5e06",
        "colab": {
          "base_uri": "https://localhost:8080/",
          "height": 295
        }
      },
      "source": [
        "#line plot\n",
        "b=a['retail_price']\n",
        "c=a['discounted_price']\n",
        "plt.plot(b,c,color='r',marker='o',markerfacecolor='r')\n",
        "plt.xlabel('xaxis')\n",
        "plt.ylabel('yaxis')\n",
        "plt.title('line plot')\n",
        "plt.grid(True,linestyle='-.',color='k')\n",
        "plt.show()"
      ],
      "execution_count": 0,
      "outputs": [
        {
          "output_type": "display_data",
          "data": {
            "image/png": "[encoded data removed]",
            "text/plain": [
              "<Figure size 432x288 with 1 Axes>"
            ]
          },
          "metadata": {
            "tags": []
          }
        }
      ]
    },
    {
      "cell_type": "code",
      "metadata": {
        "id": "zMna6UNhuUnK",
        "colab_type": "code",
        "outputId": "9b75cbe4-f65d-42b7-eb04-96fc0d7583ce",
        "colab": {
          "base_uri": "https://localhost:8080/",
          "height": 295
        }
      },
      "source": [
        "#scatter plot\n",
        "b=a['retail_price']\n",
        "c=a['discounted_price']\n",
        "plt.scatter(b,c,color='r',marker='o')\n",
        "plt.xlabel('xaxis')\n",
        "plt.ylabel('yaxis')\n",
        "plt.title('scatter plot')\n",
        "plt.grid(True,color='g',linestyle='-.')\n",
        "plt.show()"
      ],
      "execution_count": 0,
      "outputs": [
        {
          "output_type": "display_data",
          "data": {
            "image/png": "[encoded data removed]",
            "text/plain": [
              "<Figure size 432x288 with 1 Axes>"
            ]
          },
          "metadata": {
            "tags": []
          }
        }
      ]
    },
    {
      "cell_type": "code",
      "metadata": {
        "id": "VOMqLbrDvBYE",
        "colab_type": "code",
        "outputId": "f5390b27-46fe-4507-d61a-3eb9aadd0e55",
        "colab": {
          "base_uri": "https://localhost:8080/",
          "height": 295
        }
      },
      "source": [
        "#histogram\n",
        "f=a['discounted_price']\n",
        "g=range(1,100)\n",
        "plt.hist(f,g,histtype='bar',rwidth=0.8,label='discounted_price')\n",
        "plt.legend(loc='upper right')\n",
        "plt.xlabel('xaxis')\n",
        "plt.ylabel('yaxis')\n",
        "plt.title('histogram')\n",
        "plt.show()\n",
        "\n"
      ],
      "execution_count": 0,
      "outputs": [
        {
          "output_type": "display_data",
          "data": {
            "image/png": "[encoded data removed]",
            "text/plain": [
              "<Figure size 432x288 with 1 Axes>"
            ]
          },
          "metadata": {
            "tags": []
          }
        }
      ]
    },
    {
      "cell_type": "code",
      "metadata": {
        "id": "Zs6CJOcjwJxa",
        "colab_type": "code",
        "colab": {}
      },
      "source": [
        ""
      ],
      "execution_count": 0,
      "outputs": []
    },
    {
      "cell_type": "code",
      "metadata": {
        "id": "BD0FsYYczDg_",
        "colab_type": "code",
        "colab": {}
      },
      "source": [
        ""
      ],
      "execution_count": 0,
      "outputs": []
    },
    {
      "cell_type": "code",
      "metadata": {
        "id": "4uyROWiq1gKb",
        "colab_type": "code",
        "outputId": "e36b1db0-719b-4873-c15e-c44ba8f98b51",
        "colab": {
          "base_uri": "https://localhost:8080/",
          "height": 295
        }
      },
      "source": [
        "#double line plot\n",
        "o=a['discounted_price']\n",
        "y=a['is_FK_Advantage_product']\n",
        "plt.plot(o,'r',label='line one',marker='o',markerfacecolor='r')\n",
        "plt.plot(y,'g',label='line two',marker='o',markerfacecolor='g')\n",
        "plt.xlabel('xaxis')\n",
        "plt.ylabel('yaxis')\n",
        "plt.title('double line plot')\n",
        "plt.legend(loc='upper right')\n",
        "plt.grid(True,linestyle='--',color='k')\n",
        "plt.show()"
      ],
      "execution_count": 0,
      "outputs": [
        {
          "output_type": "display_data",
          "data": {
            "image/png": "[encoded data removed]",
            "text/plain": [
              "<Figure size 432x288 with 1 Axes>"
            ]
          },
          "metadata": {
            "tags": []
          }
        }
      ]
    },
    {
      "cell_type": "code",
      "metadata": {
        "id": "oXPdfl8I2lhL",
        "colab_type": "code",
        "colab": {}
      },
      "source": [
        ""
      ],
      "execution_count": 0,
      "outputs": []
    }
  ]
}